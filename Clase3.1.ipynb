{
  "nbformat": 4,
  "nbformat_minor": 5,
  "metadata": {
    "orig_nbformat": 4,
    "language_info": {
      "name": "python",
      "version": "3.8.12",
      "mimetype": "text/x-python",
      "codemirror_mode": {
        "name": "ipython",
        "version": 3
      },
      "pygments_lexer": "ipython3",
      "nbconvert_exporter": "python",
      "file_extension": ".py"
    },
    "kernelspec": {
      "name": "python3",
      "display_name": "Python 3 (ipykernel)",
      "language": "python"
    },
    "colab": {
      "name": "Untitled.ipynb",
      "provenance": []
    }
  },
  "cells": [
    {
      "cell_type": "markdown",
      "metadata": {
        "id": "d321a9e3-70e1-4939-82ab-6c4b1332ab10"
      },
      "source": [
        "# Data wrangling"
      ],
      "id": "d321a9e3-70e1-4939-82ab-6c4b1332ab10"
    },
    {
      "cell_type": "code",
      "metadata": {
        "trusted": true,
        "id": "ef52bd8d-dd56-42a5-a8bc-6faf7fd7a74f",
        "outputId": "0eec3b8c-1909-4baa-f58c-c668c963061f"
      },
      "source": [
        "%ls datasets/"
      ],
      "id": "ef52bd8d-dd56-42a5-a8bc-6faf7fd7a74f",
      "execution_count": null,
      "outputs": [
        {
          "name": "stdout",
          "text": "adult.csv                  census.csv     nhanes_2015_2016.csv\nairline_data.csv           cwurData.csv   pokemon.csv\nantropometria00.csv        data.csv       sample_pivot.csv\nantropometria-dataset.csv  headbrain.csv  tips.csv\nCanada.xlsx                mic.xlsx       weight-height.csv\nCartwheeldata.csv          movies.csv\n",
          "output_type": "stream"
        }
      ]
    },
    {
      "cell_type": "code",
      "metadata": {
        "trusted": true,
        "id": "144470de-c736-4c73-9a4d-db9d7ed0d7fd"
      },
      "source": [
        "# pip install xlrd"
      ],
      "id": "144470de-c736-4c73-9a4d-db9d7ed0d7fd",
      "execution_count": null,
      "outputs": []
    },
    {
      "cell_type": "code",
      "metadata": {
        "trusted": true,
        "id": "ad5274ba-c3eb-4f19-9ce1-725923815dc3"
      },
      "source": [
        "# pip install openpyxl"
      ],
      "id": "ad5274ba-c3eb-4f19-9ce1-725923815dc3",
      "execution_count": null,
      "outputs": []
    },
    {
      "cell_type": "code",
      "metadata": {
        "trusted": true,
        "id": "01cc2155-4bb2-4481-8a0c-7d8583096545"
      },
      "source": [
        "import pandas as pd"
      ],
      "id": "01cc2155-4bb2-4481-8a0c-7d8583096545",
      "execution_count": null,
      "outputs": []
    },
    {
      "cell_type": "code",
      "metadata": {
        "trusted": true,
        "id": "5ac3f1a8-0551-4300-85f1-3b85de070d20",
        "outputId": "8dc5492e-e546-4849-8339-af9cfd0654b0"
      },
      "source": [
        "df = pd.read_excel('datasets/Canada.xlsx',\n",
        "                  engine = 'openpyxl',\n",
        "                  sheet_name = 'Canada by Citizenship', \n",
        "                  skiprows = range(20),\n",
        "                  )\n",
        "df.columns"
      ],
      "id": "5ac3f1a8-0551-4300-85f1-3b85de070d20",
      "execution_count": null,
      "outputs": [
        {
          "execution_count": 5,
          "output_type": "execute_result",
          "data": {
            "text/plain": "Index([       'Type',    'Coverage',      'OdName',        'AREA',\n          'AreaName',         'REG',     'RegName',         'DEV',\n           'DevName',          1980,          1981,          1982,\n                1983,          1984,          1985,          1986,\n                1987,          1988,          1989,          1990,\n                1991,          1992,          1993,          1994,\n                1995,          1996,          1997,          1998,\n                1999,          2000,          2001,          2002,\n                2003,          2004,          2005,          2006,\n                2007,          2008,          2009,          2010,\n                2011,          2012,          2013, 'Unnamed: 43',\n       'Unnamed: 44', 'Unnamed: 45', 'Unnamed: 46', 'Unnamed: 47',\n       'Unnamed: 48', 'Unnamed: 49', 'Unnamed: 50'],\n      dtype='object')"
          },
          "metadata": {}
        }
      ]
    },
    {
      "cell_type": "code",
      "metadata": {
        "trusted": true,
        "id": "c0526d93-9710-404e-a894-56f131d452ed"
      },
      "source": [
        "df.drop(['Type',    'Coverage',      'REG',        'DEV','Unnamed: 43',\n",
        "       'Unnamed: 44', 'Unnamed: 45', 'Unnamed: 46', 'Unnamed: 47',\n",
        "       'Unnamed: 48', 'Unnamed: 49', 'Unnamed: 50'],\n",
        "       axis = 1, \n",
        "       inplace = True\n",
        "       )"
      ],
      "id": "c0526d93-9710-404e-a894-56f131d452ed",
      "execution_count": null,
      "outputs": []
    },
    {
      "cell_type": "code",
      "metadata": {
        "trusted": true,
        "id": "13b2aa24-46e7-496f-ad55-9ee0de44d40f",
        "outputId": "b21c70be-36d0-4e2a-c029-13e3f65d2cc1"
      },
      "source": [
        "df.columns"
      ],
      "id": "13b2aa24-46e7-496f-ad55-9ee0de44d40f",
      "execution_count": null,
      "outputs": [
        {
          "execution_count": 7,
          "output_type": "execute_result",
          "data": {
            "text/plain": "Index([  'OdName',     'AREA', 'AreaName',  'RegName',  'DevName',       1980,\n             1981,       1982,       1983,       1984,       1985,       1986,\n             1987,       1988,       1989,       1990,       1991,       1992,\n             1993,       1994,       1995,       1996,       1997,       1998,\n             1999,       2000,       2001,       2002,       2003,       2004,\n             2005,       2006,       2007,       2008,       2009,       2010,\n             2011,       2012,       2013],\n      dtype='object')"
          },
          "metadata": {}
        }
      ]
    },
    {
      "cell_type": "code",
      "metadata": {
        "trusted": true,
        "id": "a7d5a145-06f2-42c9-9694-5604d113527b",
        "outputId": "bb381bef-8a0d-415a-83e6-81f0c2241b79"
      },
      "source": [
        "df.rename(columns = {'OdName':'Country', \n",
        "                     'AreaName':'Continent',\n",
        "                     'RegName': 'Region'},\n",
        "          inplace = True)\n",
        "df.columns"
      ],
      "id": "a7d5a145-06f2-42c9-9694-5604d113527b",
      "execution_count": null,
      "outputs": [
        {
          "execution_count": 8,
          "output_type": "execute_result",
          "data": {
            "text/plain": "Index([  'Country',      'AREA', 'Continent',    'Region',   'DevName',\n              1980,        1981,        1982,        1983,        1984,\n              1985,        1986,        1987,        1988,        1989,\n              1990,        1991,        1992,        1993,        1994,\n              1995,        1996,        1997,        1998,        1999,\n              2000,        2001,        2002,        2003,        2004,\n              2005,        2006,        2007,        2008,        2009,\n              2010,        2011,        2012,        2013],\n      dtype='object')"
          },
          "metadata": {}
        }
      ]
    },
    {
      "cell_type": "code",
      "metadata": {
        "trusted": true,
        "id": "6601383b-2f23-47af-b57d-1182279cc681",
        "outputId": "a8dabb1b-1cad-4251-934d-e731bb63b816"
      },
      "source": [
        "df.head(2)"
      ],
      "id": "6601383b-2f23-47af-b57d-1182279cc681",
      "execution_count": null,
      "outputs": [
        {
          "execution_count": 9,
          "output_type": "execute_result",
          "data": {
            "text/plain": "       Country   AREA Continent           Region             DevName  1980  \\\n0  Afghanistan  935.0      Asia    Southern Asia  Developing regions  16.0   \n1      Albania  908.0    Europe  Southern Europe   Developed regions   1.0   \n\n   1981  1982  1983  1984  ...    2004    2005    2006    2007    2008  \\\n0  39.0  39.0  47.0  71.0  ...  2978.0  3436.0  3009.0  2652.0  2111.0   \n1   0.0   0.0   0.0   0.0  ...  1450.0  1223.0   856.0   702.0   560.0   \n\n     2009    2010    2011    2012    2013  \n0  1746.0  1758.0  2203.0  2635.0  2004.0  \n1   716.0   561.0   539.0   620.0   603.0  \n\n[2 rows x 39 columns]",
            "text/html": "<div>\n<style scoped>\n    .dataframe tbody tr th:only-of-type {\n        vertical-align: middle;\n    }\n\n    .dataframe tbody tr th {\n        vertical-align: top;\n    }\n\n    .dataframe thead th {\n        text-align: right;\n    }\n</style>\n<table border=\"1\" class=\"dataframe\">\n  <thead>\n    <tr style=\"text-align: right;\">\n      <th></th>\n      <th>Country</th>\n      <th>AREA</th>\n      <th>Continent</th>\n      <th>Region</th>\n      <th>DevName</th>\n      <th>1980</th>\n      <th>1981</th>\n      <th>1982</th>\n      <th>1983</th>\n      <th>1984</th>\n      <th>...</th>\n      <th>2004</th>\n      <th>2005</th>\n      <th>2006</th>\n      <th>2007</th>\n      <th>2008</th>\n      <th>2009</th>\n      <th>2010</th>\n      <th>2011</th>\n      <th>2012</th>\n      <th>2013</th>\n    </tr>\n  </thead>\n  <tbody>\n    <tr>\n      <th>0</th>\n      <td>Afghanistan</td>\n      <td>935.0</td>\n      <td>Asia</td>\n      <td>Southern Asia</td>\n      <td>Developing regions</td>\n      <td>16.0</td>\n      <td>39.0</td>\n      <td>39.0</td>\n      <td>47.0</td>\n      <td>71.0</td>\n      <td>...</td>\n      <td>2978.0</td>\n      <td>3436.0</td>\n      <td>3009.0</td>\n      <td>2652.0</td>\n      <td>2111.0</td>\n      <td>1746.0</td>\n      <td>1758.0</td>\n      <td>2203.0</td>\n      <td>2635.0</td>\n      <td>2004.0</td>\n    </tr>\n    <tr>\n      <th>1</th>\n      <td>Albania</td>\n      <td>908.0</td>\n      <td>Europe</td>\n      <td>Southern Europe</td>\n      <td>Developed regions</td>\n      <td>1.0</td>\n      <td>0.0</td>\n      <td>0.0</td>\n      <td>0.0</td>\n      <td>0.0</td>\n      <td>...</td>\n      <td>1450.0</td>\n      <td>1223.0</td>\n      <td>856.0</td>\n      <td>702.0</td>\n      <td>560.0</td>\n      <td>716.0</td>\n      <td>561.0</td>\n      <td>539.0</td>\n      <td>620.0</td>\n      <td>603.0</td>\n    </tr>\n  </tbody>\n</table>\n<p>2 rows × 39 columns</p>\n</div>"
          },
          "metadata": {}
        }
      ]
    },
    {
      "cell_type": "code",
      "metadata": {
        "trusted": true,
        "id": "c1568fe8-7b2e-49bf-a2d7-6ef2a4301ab9",
        "outputId": "9a76713f-072d-4259-82c7-b692b4bda986"
      },
      "source": [
        "df['Total'] = df.iloc[:, 5:39].sum(axis=1)\n",
        "#df.iloc[:, 4:]\n",
        "df.head(2)"
      ],
      "id": "c1568fe8-7b2e-49bf-a2d7-6ef2a4301ab9",
      "execution_count": null,
      "outputs": [
        {
          "execution_count": 24,
          "output_type": "execute_result",
          "data": {
            "text/plain": "       Country   AREA Continent           Region             DevName  1980  \\\n0  Afghanistan  935.0      Asia    Southern Asia  Developing regions  16.0   \n1      Albania  908.0    Europe  Southern Europe   Developed regions   1.0   \n\n   1981  1982  1983  1984  ...    2005    2006    2007    2008    2009  \\\n0  39.0  39.0  47.0  71.0  ...  3436.0  3009.0  2652.0  2111.0  1746.0   \n1   0.0   0.0   0.0   0.0  ...  1223.0   856.0   702.0   560.0   716.0   \n\n     2010    2011    2012    2013    Total  \n0  1758.0  2203.0  2635.0  2004.0  58639.0  \n1   561.0   539.0   620.0   603.0  15699.0  \n\n[2 rows x 40 columns]",
            "text/html": "<div>\n<style scoped>\n    .dataframe tbody tr th:only-of-type {\n        vertical-align: middle;\n    }\n\n    .dataframe tbody tr th {\n        vertical-align: top;\n    }\n\n    .dataframe thead th {\n        text-align: right;\n    }\n</style>\n<table border=\"1\" class=\"dataframe\">\n  <thead>\n    <tr style=\"text-align: right;\">\n      <th></th>\n      <th>Country</th>\n      <th>AREA</th>\n      <th>Continent</th>\n      <th>Region</th>\n      <th>DevName</th>\n      <th>1980</th>\n      <th>1981</th>\n      <th>1982</th>\n      <th>1983</th>\n      <th>1984</th>\n      <th>...</th>\n      <th>2005</th>\n      <th>2006</th>\n      <th>2007</th>\n      <th>2008</th>\n      <th>2009</th>\n      <th>2010</th>\n      <th>2011</th>\n      <th>2012</th>\n      <th>2013</th>\n      <th>Total</th>\n    </tr>\n  </thead>\n  <tbody>\n    <tr>\n      <th>0</th>\n      <td>Afghanistan</td>\n      <td>935.0</td>\n      <td>Asia</td>\n      <td>Southern Asia</td>\n      <td>Developing regions</td>\n      <td>16.0</td>\n      <td>39.0</td>\n      <td>39.0</td>\n      <td>47.0</td>\n      <td>71.0</td>\n      <td>...</td>\n      <td>3436.0</td>\n      <td>3009.0</td>\n      <td>2652.0</td>\n      <td>2111.0</td>\n      <td>1746.0</td>\n      <td>1758.0</td>\n      <td>2203.0</td>\n      <td>2635.0</td>\n      <td>2004.0</td>\n      <td>58639.0</td>\n    </tr>\n    <tr>\n      <th>1</th>\n      <td>Albania</td>\n      <td>908.0</td>\n      <td>Europe</td>\n      <td>Southern Europe</td>\n      <td>Developed regions</td>\n      <td>1.0</td>\n      <td>0.0</td>\n      <td>0.0</td>\n      <td>0.0</td>\n      <td>0.0</td>\n      <td>...</td>\n      <td>1223.0</td>\n      <td>856.0</td>\n      <td>702.0</td>\n      <td>560.0</td>\n      <td>716.0</td>\n      <td>561.0</td>\n      <td>539.0</td>\n      <td>620.0</td>\n      <td>603.0</td>\n      <td>15699.0</td>\n    </tr>\n  </tbody>\n</table>\n<p>2 rows × 40 columns</p>\n</div>"
          },
          "metadata": {}
        }
      ]
    },
    {
      "cell_type": "code",
      "metadata": {
        "trusted": true,
        "id": "08ba61a1-887c-41c6-afc7-3bd33a5b738a",
        "outputId": "61111640-3fba-45f4-d4d8-ebcb23188598"
      },
      "source": [
        "df.columns = list(map(str, df.columns))\n",
        "df.columns"
      ],
      "id": "08ba61a1-887c-41c6-afc7-3bd33a5b738a",
      "execution_count": null,
      "outputs": [
        {
          "execution_count": 33,
          "output_type": "execute_result",
          "data": {
            "text/plain": "Index(['Country', 'AREA', 'Continent', 'Region', 'DevName', '1980', '1981',\n       '1982', '1983', '1984', '1985', '1986', '1987', '1988', '1989', '1990',\n       '1991', '1992', '1993', '1994', '1995', '1996', '1997', '1998', '1999',\n       '2000', '2001', '2002', '2003', '2004', '2005', '2006', '2007', '2008',\n       '2009', '2010', '2011', '2012', '2013', 'Total'],\n      dtype='object')"
          },
          "metadata": {}
        }
      ]
    },
    {
      "cell_type": "code",
      "metadata": {
        "trusted": true,
        "id": "152dc9fb-7eb7-4058-b196-fd4988e02af5",
        "outputId": "de7c98a0-b1bd-4247-a204-79010b8f7a96"
      },
      "source": [
        "df['Total2'] = df.loc[:, '1980':'2013'].sum(axis=1)\n",
        "df.head(2)"
      ],
      "id": "152dc9fb-7eb7-4058-b196-fd4988e02af5",
      "execution_count": null,
      "outputs": [
        {
          "execution_count": 34,
          "output_type": "execute_result",
          "data": {
            "text/plain": "       Country   AREA Continent           Region             DevName  1980  \\\n0  Afghanistan  935.0      Asia    Southern Asia  Developing regions  16.0   \n1      Albania  908.0    Europe  Southern Europe   Developed regions   1.0   \n\n   1981  1982  1983  1984  ...    2006    2007    2008    2009    2010  \\\n0  39.0  39.0  47.0  71.0  ...  3009.0  2652.0  2111.0  1746.0  1758.0   \n1   0.0   0.0   0.0   0.0  ...   856.0   702.0   560.0   716.0   561.0   \n\n     2011    2012    2013    Total   Total2  \n0  2203.0  2635.0  2004.0  58639.0  58639.0  \n1   539.0   620.0   603.0  15699.0  15699.0  \n\n[2 rows x 41 columns]",
            "text/html": "<div>\n<style scoped>\n    .dataframe tbody tr th:only-of-type {\n        vertical-align: middle;\n    }\n\n    .dataframe tbody tr th {\n        vertical-align: top;\n    }\n\n    .dataframe thead th {\n        text-align: right;\n    }\n</style>\n<table border=\"1\" class=\"dataframe\">\n  <thead>\n    <tr style=\"text-align: right;\">\n      <th></th>\n      <th>Country</th>\n      <th>AREA</th>\n      <th>Continent</th>\n      <th>Region</th>\n      <th>DevName</th>\n      <th>1980</th>\n      <th>1981</th>\n      <th>1982</th>\n      <th>1983</th>\n      <th>1984</th>\n      <th>...</th>\n      <th>2006</th>\n      <th>2007</th>\n      <th>2008</th>\n      <th>2009</th>\n      <th>2010</th>\n      <th>2011</th>\n      <th>2012</th>\n      <th>2013</th>\n      <th>Total</th>\n      <th>Total2</th>\n    </tr>\n  </thead>\n  <tbody>\n    <tr>\n      <th>0</th>\n      <td>Afghanistan</td>\n      <td>935.0</td>\n      <td>Asia</td>\n      <td>Southern Asia</td>\n      <td>Developing regions</td>\n      <td>16.0</td>\n      <td>39.0</td>\n      <td>39.0</td>\n      <td>47.0</td>\n      <td>71.0</td>\n      <td>...</td>\n      <td>3009.0</td>\n      <td>2652.0</td>\n      <td>2111.0</td>\n      <td>1746.0</td>\n      <td>1758.0</td>\n      <td>2203.0</td>\n      <td>2635.0</td>\n      <td>2004.0</td>\n      <td>58639.0</td>\n      <td>58639.0</td>\n    </tr>\n    <tr>\n      <th>1</th>\n      <td>Albania</td>\n      <td>908.0</td>\n      <td>Europe</td>\n      <td>Southern Europe</td>\n      <td>Developed regions</td>\n      <td>1.0</td>\n      <td>0.0</td>\n      <td>0.0</td>\n      <td>0.0</td>\n      <td>0.0</td>\n      <td>...</td>\n      <td>856.0</td>\n      <td>702.0</td>\n      <td>560.0</td>\n      <td>716.0</td>\n      <td>561.0</td>\n      <td>539.0</td>\n      <td>620.0</td>\n      <td>603.0</td>\n      <td>15699.0</td>\n      <td>15699.0</td>\n    </tr>\n  </tbody>\n</table>\n<p>2 rows × 41 columns</p>\n</div>"
          },
          "metadata": {}
        }
      ]
    },
    {
      "cell_type": "code",
      "metadata": {
        "id": "e0fd2bac-203c-4789-9794-76d4173f8c4d"
      },
      "source": [
        ""
      ],
      "id": "e0fd2bac-203c-4789-9794-76d4173f8c4d",
      "execution_count": null,
      "outputs": []
    }
  ]
}